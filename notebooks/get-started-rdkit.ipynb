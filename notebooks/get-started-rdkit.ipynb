{
 "cells": [
  {
   "cell_type": "code",
   "execution_count": 1,
   "id": "9eaed703-5cdd-4e71-93a9-db44698fa99d",
   "metadata": {},
   "outputs": [],
   "source": [
    "import rdkit\n",
    "from rdkit import Chem"
   ]
  },
  {
   "cell_type": "code",
   "execution_count": 2,
   "id": "a8549126-9e2f-43e9-84a0-adc4ecd5dc88",
   "metadata": {},
   "outputs": [
    {
     "name": "stdout",
     "output_type": "stream",
     "text": [
      "\n",
      "     RDKit          2D\n",
      "\n",
      "  4  4  0  0  0  0  0  0  0  0999 V2000\n",
      "    1.0607    0.0000    0.0000 C   0  0  0  0  0  0  0  0  0  0  0  0\n",
      "   -0.0000   -1.0607    0.0000 C   0  0  0  0  0  0  0  0  0  0  0  0\n",
      "   -1.0607    0.0000    0.0000 C   0  0  0  0  0  0  0  0  0  0  0  0\n",
      "    0.0000    1.0607    0.0000 C   0  0  0  0  0  0  0  0  0  0  0  0\n",
      "  1  2  1  0\n",
      "  2  3  1  0\n",
      "  3  4  1  0\n",
      "  4  1  1  0\n",
      "M  END\n",
      "\n"
     ]
    }
   ],
   "source": [
    "print(rdkit.Chem.MolToMolBlock(rdkit.Chem.MolFromSmiles('C1CCC1')))"
   ]
  },
  {
   "cell_type": "markdown",
   "id": "80dc4feb-52aa-4f1b-bbd9-51ef8f3f549b",
   "metadata": {},
   "source": [
    "# Reading, Drawing, and Writing Molecules\n",
    "\n",
    "https://www.rdkit.org/docs/GettingStartedInPython.html"
   ]
  },
  {
   "cell_type": "code",
   "execution_count": 5,
   "id": "2cfeb17e-ff35-43b4-8d29-3e31fcc0d37a",
   "metadata": {},
   "outputs": [
    {
     "data": {
      "image/png": "[encoded data removed]",
      "text/plain": [
       "<rdkit.Chem.rdchem.Mol at 0x1243d4660>"
      ]
     },
     "execution_count": 5,
     "metadata": {},
     "output_type": "execute_result"
    }
   ],
   "source": [
    "# Individual molecules can be constructed using a variety of approaches\n",
    "\n",
    "m = Chem.MolFromSmiles('Cc1ccccc1')\n",
    "m = Chem.MolFromMolFile('../data/input.mol')\n",
    "\n",
    "m"
   ]
  },
  {
   "cell_type": "code",
   "execution_count": 6,
   "id": "fed0457c-ba14-4158-8c42-f007353e3686",
   "metadata": {},
   "outputs": [
    {
     "data": {
      "text/plain": [
       "'Cc1cccc2[nH]ccc12'"
      ]
     },
     "execution_count": 6,
     "metadata": {},
     "output_type": "execute_result"
    }
   ],
   "source": [
    "Chem.MolToSmiles(m)"
   ]
  },
  {
   "cell_type": "code",
   "execution_count": 27,
   "id": "93d1c999-bcd8-44e4-8c7b-9d0f4b6a6f59",
   "metadata": {},
   "outputs": [
    {
     "name": "stdout",
     "output_type": "stream",
     "text": [
      "\n",
      "  Marvin  08160807402D          \n",
      "\n",
      "  9  9  0  0  1  0            999 V2000\n",
      "    0.0000    2.4750    0.0000 C   0  0  0  0  0  0  0  0  0  0  0  0\n",
      "    0.7145    2.0625    0.0000 C   0  0  2  0  0  0  0  0  0  0  0  0\n",
      "    1.4289    2.4750    0.0000 O   0  0  0  0  0  0  0  0  0  0  0  0\n",
      "    0.7145    1.2375    0.0000 C   0  0  0  0  0  0  0  0  0  0  0  0\n",
      "    1.4289    0.8250    0.0000 C   0  0  0  0  0  0  0  0  0  0  0  0\n",
      "    1.4289   -0.0000    0.0000 C   0  0  0  0  0  0  0  0  0  0  0  0\n",
      "    0.7145   -0.4125    0.0000 C   0  0  0  0  0  0  0  0  0  0  0  0\n",
      "    0.0000    0.0000    0.0000 C   0  0  0  0  0  0  0  0  0  0  0  0\n",
      "    0.0000    0.8250    0.0000 C   0  0  0  0  0  0  0  0  0  0  0  0\n",
      "  1  2  1  0  0  0  0\n",
      "  2  3  1  6  0  0  0\n",
      "  2  4  1  0  0  0  0\n",
      "  4  5  4  0  0  0  0\n",
      "  5  6  4  0  0  0  0\n",
      "  6  7  4  0  0  0  0\n",
      "  7  8  4  0  0  0  0\n",
      "  8  9  4  0  0  0  0\n",
      "  4  9  4  0  0  0  0\n",
      "M  END\n",
      "\n"
     ]
    },
    {
     "data": {
      "image/png": "[encoded data removed]",
      "text/plain": [
       "<rdkit.Chem.rdchem.Mol at 0x147d54cf0>"
      ]
     },
     "execution_count": 27,
     "metadata": {},
     "output_type": "execute_result"
    }
   ],
   "source": [
    "stringWithMolData=open('../data/chiral.mol','r').read()\n",
    "print(stringWithMolData)\n",
    "\n",
    "m = Chem.MolFromMolBlock(stringWithMolData)\n",
    "m"
   ]
  },
  {
   "cell_type": "code",
   "execution_count": 29,
   "id": "0cea3f63-207d-438c-92c8-fbe1250ac7a4",
   "metadata": {},
   "outputs": [],
   "source": [
    "from rdkit.Chem import Draw\n",
    "\n",
    "img = Draw.MolToImage(m)"
   ]
  },
  {
   "cell_type": "code",
   "execution_count": 30,
   "id": "c5b548c3-90f9-45b8-9eb8-60f6c4459d19",
   "metadata": {},
   "outputs": [
    {
     "data": {
      "image/jpeg": "[encoded data removed]",
      "image/png": "[encoded data removed]",
      "text/plain": [
       "<PIL.PngImagePlugin.PngImageFile image mode=RGB size=300x300>"
      ]
     },
     "execution_count": 30,
     "metadata": {},
     "output_type": "execute_result"
    }
   ],
   "source": [
    "img"
   ]
  },
  {
   "cell_type": "markdown",
   "id": "382e5e48-9ca4-408f-9e73-caedcb390ddd",
   "metadata": {},
   "source": [
    "## Reading sets of molecules"
   ]
  },
  {
   "cell_type": "code",
   "execution_count": 31,
   "id": "cabc54d7-542a-4497-8b59-22eff308d4f1",
   "metadata": {},
   "outputs": [
    {
     "name": "stdout",
     "output_type": "stream",
     "text": [
      "38\n"
     ]
    },
    {
     "name": "stderr",
     "output_type": "stream",
     "text": [
      "[16:23:48] Warning: molecule is tagged as 2D, but at least one Z coordinate is not zero. Marking the mol as 3D.\n"
     ]
    }
   ],
   "source": [
    "suppl = Chem.SDMolSupplier('../data/refined-set/1a1e/1a1e_ligand.sdf')\n",
    "\n",
    "for mol in suppl:\n",
    "  print(mol.GetNumAtoms())"
   ]
  },
  {
   "cell_type": "code",
   "execution_count": 33,
   "id": "8a6e6628-374d-4431-a76b-08cc0259a4aa",
   "metadata": {},
   "outputs": [
    {
     "name": "stderr",
     "output_type": "stream",
     "text": [
      "[16:24:10] Warning: molecule is tagged as 2D, but at least one Z coordinate is not zero. Marking the mol as 3D.\n"
     ]
    },
    {
     "data": {
      "text/plain": [
       "[<rdkit.Chem.rdchem.Mol at 0x147d55d90>]"
      ]
     },
     "execution_count": 33,
     "metadata": {},
     "output_type": "execute_result"
    }
   ],
   "source": [
    "mols = [x for x in suppl]\n",
    "\n",
    "mols"
   ]
  },
  {
   "cell_type": "code",
   "execution_count": 34,
   "id": "24a88e44-9696-435d-98a5-4cba2bc93269",
   "metadata": {},
   "outputs": [
    {
     "name": "stderr",
     "output_type": "stream",
     "text": [
      "[16:24:20] Warning: molecule is tagged as 2D, but at least one Z coordinate is not zero. Marking the mol as 3D.\n"
     ]
    },
    {
     "data": {
      "text/plain": [
       "38"
      ]
     },
     "execution_count": 34,
     "metadata": {},
     "output_type": "execute_result"
    }
   ],
   "source": [
    "suppl[0].GetNumAtoms()"
   ]
  },
  {
   "cell_type": "code",
   "execution_count": 35,
   "id": "19b30fcc-9ed8-42a7-b78b-845b89c763f2",
   "metadata": {},
   "outputs": [
    {
     "name": "stdout",
     "output_type": "stream",
     "text": [
      "38\n"
     ]
    },
    {
     "name": "stderr",
     "output_type": "stream",
     "text": [
      "[16:25:18] Warning: molecule is tagged as 2D, but at least one Z coordinate is not zero. Marking the mol as 3D.\n"
     ]
    }
   ],
   "source": [
    "# context - good practice \n",
    "\n",
    "with Chem.SDMolSupplier('../data/refined-set/1a1e/1a1e_ligand.sdf') as suppl:\n",
    "  for mol in suppl:\n",
    "    if mol is None: continue\n",
    "    print(mol.GetNumAtoms())"
   ]
  },
  {
   "cell_type": "code",
   "execution_count": null,
   "id": "19ad292f-d40a-40e7-b46c-4c1b61b7e4ce",
   "metadata": {},
   "outputs": [],
   "source": [
    "i = 0\n",
    "with Chem.MultithreadedSDMolSupplier('../data/refined-set/1a1e/1a1e_ligand.sdf') as sdSupl:\n",
    "  for mol in sdSupl:\n",
    "    if mol is not None:\n",
    "      i += 1\n",
    "\n",
    "print(i)"
   ]
  },
  {
   "cell_type": "code",
   "execution_count": 3,
   "id": "58bf5d05-7736-4201-b058-d46aa84d234b",
   "metadata": {},
   "outputs": [
    {
     "data": {
      "image/png": "[encoded data removed]",
      "text/plain": [
       "<rdkit.Chem.rdchem.Mol at 0x1243d46d0>"
      ]
     },
     "execution_count": 3,
     "metadata": {},
     "output_type": "execute_result"
    }
   ],
   "source": [
    "m = Chem.MolFromMolFile('../data/chiral.mol')\n",
    "m"
   ]
  },
  {
   "cell_type": "code",
   "execution_count": 4,
   "id": "07f92cbd-92b1-4412-bc24-c226d7715f2a",
   "metadata": {},
   "outputs": [
    {
     "data": {
      "text/plain": [
       "'C[C@H](O)c1ccccc1'"
      ]
     },
     "execution_count": 4,
     "metadata": {},
     "output_type": "execute_result"
    }
   ],
   "source": [
    "Chem.MolToSmiles(m)"
   ]
  },
  {
   "cell_type": "code",
   "execution_count": null,
   "id": "0cc3d27e-dd4a-4ac5-843c-a6c993e94228",
   "metadata": {},
   "outputs": [],
   "source": []
  }
 ],
 "metadata": {
  "kernelspec": {
   "display_name": "Python 3 (ipykernel)",
   "language": "python",
   "name": "python3"
  },
  "language_info": {
   "codemirror_mode": {
    "name": "ipython",
    "version": 3
   },
   "file_extension": ".py",
   "mimetype": "text/x-python",
   "name": "python",
   "nbconvert_exporter": "python",
   "pygments_lexer": "ipython3",
   "version": "3.11.6"
  }
 },
 "nbformat": 4,
 "nbformat_minor": 5
}
